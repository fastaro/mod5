{
 "cells": [
  {
   "cell_type": "markdown",
   "metadata": {},
   "source": [
    "## Final Project Submission\n",
    "\n",
    "\n",
    "* Student name: Robert Fustero \n",
    "* Student pace: part time\n",
    "* Scheduled project review 8/27/19\n",
    "* Instructor name: Brandon Lewis\n"
   ]
  },
  {
   "cell_type": "markdown",
   "metadata": {},
   "source": [
    "## Introduction"
   ]
  },
  {
   "cell_type": "markdown",
   "metadata": {},
   "source": [
    "The goal of this project was to see if it were possible to guess the gender of an arrested person based on the arrest data alone."
   ]
  },
  {
   "cell_type": "markdown",
   "metadata": {},
   "source": [
    "Being able to profile the types of crime committed /criminals before they happen - gives law enforcement better insight to deal with their community.<br>\n",
    "This is a proof of concept project showing how improving/stacking models can lead to better performance even with bad data"
   ]
  },
  {
   "cell_type": "code",
   "execution_count": 86,
   "metadata": {},
   "outputs": [],
   "source": [
    "import numpy as np\n",
    "np.random.seed(0)\n",
    "import pandas as pd\n",
    "import matplotlib.pyplot as plt\n",
    "import os\n",
    "import json\n",
    "os.environ['KMP_DUPLICATE_LIB_OK']='True'\n",
    "import xgboost as xgb\n",
    "from datetime import datetime\n",
    "import pydotplus\n",
    "from IPython.display import Image\n",
    "%matplotlib inline\n",
    "import seaborn as sns\n",
    "from matplotlib.pylab import rcParams\n",
    "from sklearn import pipeline as Pipeline\n",
    "from sklearn.linear_model import LogisticRegression\n",
    "from sklearn.model_selection import train_test_split, cross_val_score\n",
    "from sklearn.preprocessing import StandardScaler\n",
    "from sklearn.preprocessing import LabelEncoder\n",
    "from sklearn.preprocessing import OneHotEncoder\n",
    "from sklearn.neighbors import KNeighborsClassifier\n",
    "from sklearn.ensemble import AdaBoostClassifier, GradientBoostingClassifier,RandomForestClassifier, VotingClassifier\n",
    "from sklearn.metrics import accuracy_score, f1_score, confusion_matrix, classification_report"
   ]
  },
  {
   "cell_type": "code",
   "execution_count": 64,
   "metadata": {},
   "outputs": [],
   "source": [
    "import re\n",
    "import string"
   ]
  },
  {
   "cell_type": "code",
   "execution_count": 65,
   "metadata": {},
   "outputs": [],
   "source": [
    "df = pd.read_csv('arrest-data-from-2010-to-present.csv')\n",
    "#column names had spaces - replaced with underscore\n",
    "cols = df.columns\n",
    "cols = cols.map(lambda x: x.replace(' ', '_'))\n",
    "df.columns = cols"
   ]
  },
  {
   "cell_type": "markdown",
   "metadata": {},
   "source": [
    "## Time Conversion\n",
    "\n",
    "I chunked up the time into different segments (night, late night, morning, afternoon etc) for better feature engineering"
   ]
  },
  {
   "cell_type": "code",
   "execution_count": 66,
   "metadata": {},
   "outputs": [],
   "source": [
    "def Timeconv(time):\n",
    "    label = []    \n",
    "    for x in time:\n",
    "        if x < 230:\n",
    "            label.append('Night2')\n",
    "        elif x < 530:\n",
    "            label.append('Night3')\n",
    "        elif x < 900:\n",
    "            label.append('Morning1')\n",
    "        elif x < 1200:\n",
    "            label.append('Morning2')\n",
    "        elif x < 1600:\n",
    "            label.append('Afternoon')\n",
    "        elif x < 2000:\n",
    "            label.append('Dinner')\n",
    "        else:\n",
    "            label.append('Night1')\n",
    "    return pd.Series(label)\n",
    "df['Time_of_Day'] = Timeconv(df.Time)\n",
    "#unclean datetime from origianl dataset\n",
    "Dateformat = df['Arrest_Date'].str.slice(0,10)\n",
    "dates = []\n",
    "for x in Dateformat:\n",
    "    dates.append(datetime.strptime(x, '%Y-%m-%d'))\n",
    "df['Day_of_week'] = pd.Series(dates).dt.dayofweek\n",
    "df['Month'] = pd.Series(dates).dt.month"
   ]
  },
  {
   "cell_type": "code",
   "execution_count": 67,
   "metadata": {},
   "outputs": [],
   "source": [
    "df = df.dropna()"
   ]
  },
  {
   "cell_type": "code",
   "execution_count": 68,
   "metadata": {},
   "outputs": [],
   "source": [
    "df = df.sample(n=10000,random_state=2)\n",
    "#sampled from database"
   ]
  },
  {
   "cell_type": "markdown",
   "metadata": {},
   "source": [
    "## Male Percentage Score\n",
    "\n",
    "Calculating the percentage of crime commited by gender as a parameter"
   ]
  },
  {
   "cell_type": "code",
   "execution_count": 69,
   "metadata": {},
   "outputs": [],
   "source": [
    "newdfm = df[['Sex_Code','Charge']][df.Sex_Code=='M']\n",
    "newdff = df[['Sex_Code','Charge']][df.Sex_Code=='F']\n",
    "malepercent = []\n",
    "for x, y in zip(df.Charge, df.Charge):\n",
    "        maletotal = list(newdfm.Charge).count(x)\n",
    "        femaletotal = list(newdff.Charge).count(x)\n",
    "        total = maletotal+femaletotal\n",
    "        malepercent.append(maletotal/total)"
   ]
  },
  {
   "cell_type": "code",
   "execution_count": 70,
   "metadata": {},
   "outputs": [],
   "source": [
    "df['Male_Percent'] = pd.Series(malepercent, index = df.index)"
   ]
  },
  {
   "cell_type": "markdown",
   "metadata": {},
   "source": [
    "## Word Score"
   ]
  },
  {
   "cell_type": "markdown",
   "metadata": {},
   "source": [
    "NLP is being used to come up with a word score by analyzing the words in 'Charge Description' and seeing which ones appear more frequently with each sex"
   ]
  },
  {
   "cell_type": "code",
   "execution_count": 71,
   "metadata": {},
   "outputs": [],
   "source": [
    "import nltk\n",
    "from nltk.corpus import stopwords\n",
    "import string\n",
    "from nltk import word_tokenize, FreqDist\n"
   ]
  },
  {
   "cell_type": "code",
   "execution_count": 72,
   "metadata": {},
   "outputs": [],
   "source": [
    "stopwords_list = stopwords.words('english') + list(string.punctuation)\n",
    "stopwords_list = [\"''\", '\"\"', '...', '``',':','/',\"'s\",\"is\",'or','on','of','for','to','los','angeles',\"in\",\n",
    "                  '4',',','$','(',')','-','any','by','from','>','<','a','less','only','code','hours','no','act']\n",
    "def process_article(article):\n",
    "    tokens = nltk.word_tokenize(article)\n",
    "    stopwords_removed=[]\n",
    "    for token in tokens:\n",
    "        if token.lower() not in stopwords_list:\n",
    "            stopwords_removed.append(token.lower())\n",
    "    return stopwords_removed   \n"
   ]
  },
  {
   "cell_type": "code",
   "execution_count": 73,
   "metadata": {},
   "outputs": [],
   "source": [
    "fwordsraw = list(df[df['Sex_Code']=='F'].Charge_Description)\n",
    "femalewords = list(map(process_article, fwordsraw))\n",
    "female_vocab = set()\n",
    "for comment in femalewords:\n",
    "    female_vocab.update(comment)\n",
    "fword_concat = []\n",
    "\n",
    "for word in femalewords:\n",
    "    fword_concat += word\n",
    "#frequency distribution of most common words\n",
    "\n",
    "fword_freqdist = FreqDist(fword_concat)\n",
    "total_fword_count = sum(fword_freqdist.values())\n",
    "\n",
    "#find most common words and normalize them\n",
    "fword_top_200 = fword_freqdist.most_common(200)\n",
    "fword_count = {}\n",
    "for word in fword_top_200:\n",
    "    fnormalized_frequency = word[1] / total_fword_count\n",
    "    fword_count[word[0]] = fnormalized_frequency\n",
    "    \n",
    "    "
   ]
  },
  {
   "cell_type": "code",
   "execution_count": 95,
   "metadata": {},
   "outputs": [
    {
     "data": {
      "image/png": "[encoded data removed]",
      "text/plain": [
       "<Figure size 936x360 with 1 Axes>"
      ]
     },
     "metadata": {
      "needs_background": "light"
     },
     "output_type": "display_data"
    }
   ],
   "source": [
    "flist = []\n",
    "fcount = []\n",
    "for x in fword_top_200:\n",
    "    flist.append(x[0])\n",
    "    fcount.append(x[1])\n",
    "rcParams['figure.figsize']= 13,5\n",
    "rcParams['xtick.major.width'] = 2\n",
    "rcParams['ytick.major.width'] = .5\n",
    "sns.barplot(x=flist[:10],y=fcount[:10]);"
   ]
  },
  {
   "cell_type": "code",
   "execution_count": 88,
   "metadata": {},
   "outputs": [],
   "source": [
    "mwordsraw = list(df[df['Sex_Code']=='M'].Charge_Description)\n",
    "malewords = list(map(process_article, mwordsraw))\n",
    "male_vocab = set()\n",
    "for comment in malewords:\n",
    "    male_vocab.update(comment)\n",
    "mword_concat = []\n",
    "for word in malewords:\n",
    "    mword_concat += word\n",
    "#frequency distribution of most common words\n",
    "\n",
    "mword_freqdist = FreqDist(mword_concat)\n",
    "total_mword_count = sum(mword_freqdist.values())\n",
    "\n",
    "#find most common words and normalize them\n",
    "mword_top_200 = mword_freqdist.most_common(200)\n",
    "\n",
    "mword_count = {}\n",
    "for word in mword_top_200:\n",
    "    mnormalized_frequency = word[1] / total_mword_count\n",
    "    mword_count[word[0]] = mnormalized_frequency\n"
   ]
  },
  {
   "cell_type": "code",
   "execution_count": 94,
   "metadata": {},
   "outputs": [
    {
     "data": {
      "image/png": "[encoded data removed]",
      "text/plain": [
       "<Figure size 936x360 with 1 Axes>"
      ]
     },
     "metadata": {
      "needs_background": "light"
     },
     "output_type": "display_data"
    }
   ],
   "source": [
    "mlist = []\n",
    "mcount = []\n",
    "for x in mword_top_200:\n",
    "    mlist.append(x[0])\n",
    "    mcount.append(x[1])\n",
    "rcParams['figure.figsize']= 13,5\n",
    "rcParams['xtick.major.width'] = 2\n",
    "rcParams['ytick.major.width'] = .5\n",
    "sns.barplot(x=mlist[:10],y=mcount[:10]);"
   ]
  },
  {
   "cell_type": "code",
   "execution_count": 57,
   "metadata": {},
   "outputs": [],
   "source": [
    "#WORD SCORE IS CALCULATED BY SUBTRACTING THE NORMALIZED FREQUENCY OF THE MOST COMMON WORDS OF EACH GENDER\n",
    "\n",
    "word_score =[]\n",
    "for x in df.Charge_Description:\n",
    "    charge_score = []\n",
    "    for i in nltk.word_tokenize(x):\n",
    "        if i.lower() in mword_count.keys():\n",
    "            charge_score.append(mword_count[i.lower()])\n",
    "        if i.lower() in fword_count.keys():\n",
    "            charge_score.append(fword_count[i.lower()]*-1)\n",
    "    word_score.append(sum(charge_score))\n",
    "    \n",
    "df['Word_Score'] = pd.Series(word_score,index = df.index)"
   ]
  },
  {
   "cell_type": "code",
   "execution_count": null,
   "metadata": {},
   "outputs": [],
   "source": []
  },
  {
   "cell_type": "markdown",
   "metadata": {},
   "source": [
    "## ZipCode Conversion\n",
    "\n",
    "Instead of treating zipcodes like a categorical variable - I decided to append the taxable income per tax bracket per zipcoce.  It will be a way to rank how wealthy a neighborhood is that a crime was committed in.  It's just another parameter that will help my model make better decisions."
   ]
  },
  {
   "cell_type": "markdown",
   "metadata": {},
   "source": [
    "#### Issues:\n",
    "None of the zipcodes in the database are valid.  I have to look up the zipcodes by importing in another database and then looking it up by longitude and latitude. <br>\n",
    "I can then calculate the right zipcodes by finding the minimum distance between the different longitudes and latitudes. <br>\n",
    "Once I have the right zipcodes - then I can look up those same zipcodes in another database I imported, and caluclate a score based on the average taxable income per tax bracket."
   ]
  },
  {
   "cell_type": "code",
   "execution_count": 16,
   "metadata": {},
   "outputs": [],
   "source": [
    "stopwords_list = stopwords.words('english') + list(string.punctuation)\n",
    "stopwords_list = [\"''\", '\"\"', '...', '``',':','/','latitude','human_address','address','city','state','zip','longitude',\n",
    "                 '{',\"'latitude\",\"'\", \"'\",',', \"'human_address\", '}', \"'longitude\",'}',']','[']\n",
    "def get_latlong(column):\n",
    "    lat = []\n",
    "    long = []\n",
    "    Location = list(map(process_article, column))\n",
    "    for x in range(len(Location)):\n",
    "        lat.append(float(re.findall(r'\\d+\\.\\d+', Location[x][0])[0]))\n",
    "        long.append(float(re.findall(r'\\d+\\.\\d+', Location[x][1])[0])*-1)\n",
    "    return pd.Series(lat,index = df.index), pd.Series(long,index = df.index)\n",
    "df['Latitude'], df['Longitude'] = get_latlong(df.Location)"
   ]
  },
  {
   "cell_type": "code",
   "execution_count": 18,
   "metadata": {},
   "outputs": [],
   "source": [
    "dfzip = pd.read_csv('us-zip-code-latitude-and-longitude.csv')\n",
    "zipdict = dict()\n",
    "#Every parameter is in the index for some reason LOL\n",
    "for x in dfzip.index:\n",
    "    zipcode = x.split(';')[0]\n",
    "    lat = float(x.split(';')[3])\n",
    "    long = float(x.split(';')[4])\n",
    "    if lat < 35 and lat > 33 and long > -119 and long < -117.8:\n",
    "#storing relevant zipcodes based on the min max of lat/long of the dataset given\n",
    "        zipdict[zipcode]=[lat,long]\n",
    "def mindistzip(dct,x,y):\n",
    "    distdict = {}\n",
    "    for key, value in dct.items():  \n",
    "        dist = np.hypot(float((value[0])-x),(float(value[1])-y))\n",
    "#euclidean distance\n",
    "        distdict[key] = dist\n",
    "    distlist = list(distdict.values())\n",
    "    mindist = min(distlist)\n",
    "    for key, value in distdict.items():\n",
    "        if value == mindist:\n",
    "#returns zipcode with smallest distance\n",
    "            return key\n",
    "df.drop(['Zip_Codes'], axis=1, inplace=True)\n",
    "Zip_Codes = []\n",
    "for x,y in zip(df.Latitude,df.Longitude):\n",
    "    try:\n",
    "        Zip_Codes.append(mindistzip(zipdict,x,y))\n",
    "    except:\n",
    "        Zip_Codes.append('none')\n",
    "df['Zip_Codes'] = pd.Series(Zip_Codes,index = df.index)"
   ]
  },
  {
   "cell_type": "code",
   "execution_count": 20,
   "metadata": {},
   "outputs": [],
   "source": [
    "dfx = pd.read_excel('16zp05ca.xls')"
   ]
  },
  {
   "cell_type": "code",
   "execution_count": 21,
   "metadata": {},
   "outputs": [],
   "source": [
    "zipincomedict = {}\n",
    "for x,y,z in zip(dfx.iloc[13:,0],dfx.iloc[13:,91],dfx.iloc[13:,92]):\n",
    "    if str(x) in list(df['Zip_Codes']):\n",
    "        if y == 0:\n",
    "            avginc = 0\n",
    "        else:\n",
    "            avginc = z/y\n",
    "        try:\n",
    "            zipincomedict[str(x)].append(avginc)\n",
    "        except:\n",
    "            zipincomedict[str(x)] = []\n",
    "            zipincomedict[str(x)].append(avginc)\n",
    "zipscoredict = {}\n",
    "for key, value in zipincomedict.items():\n",
    "    zipscoredict[key] = sum(value)\n",
    "income_list = []\n",
    "for x in df.Zip_Codes:\n",
    "    try:\n",
    "        income_list.append(zipscoredict[str(x)])\n",
    "    except:\n",
    "        income_list.append(np.median(list(zipscoredict.values())))\n",
    "df['Income_Score'] = pd.Series(income_list,index = df.index)"
   ]
  },
  {
   "cell_type": "code",
   "execution_count": 22,
   "metadata": {},
   "outputs": [],
   "source": [
    "\n",
    "rcParams['figure.figsize']= 13,10\n",
    "rcParams['xtick.major.width'] = .5\n",
    "rcParams['ytick.major.width'] = .5"
   ]
  },
  {
   "cell_type": "code",
   "execution_count": 24,
   "metadata": {},
   "outputs": [
    {
     "data": {
      "image/png": "[encoded data removed]",
      "text/plain": [
       "<Figure size 936x720 with 1 Axes>"
      ]
     },
     "metadata": {
      "needs_background": "light"
     },
     "output_type": "display_data"
    }
   ],
   "source": [
    "cmap = sns.cubehelix_palette(n_colors=2,dark=0, light=.65, as_cmap=False, reverse=True)\n",
    "\n",
    "sns.scatterplot(x=df.Longitude,y=df.Latitude, hue=df.Sex_Code, palette=cmap,data=df);"
   ]
  },
  {
   "cell_type": "markdown",
   "metadata": {},
   "source": [
    "## Drop unnecessary columns"
   ]
  },
  {
   "cell_type": "code",
   "execution_count": 25,
   "metadata": {},
   "outputs": [],
   "source": [
    "df.drop(['Report_ID', 'Arrest_Date', 'Time', 'Area_Name',\n",
    "       'Reporting_District', 'Charge_Group_Description', \n",
    "        'Charge_Description', 'Address', 'Cross_Street', 'Location',\n",
    "        'Census_Tracts','Zip_Codes', 'Longitude','Latitude','Precinct_Boundaries',\n",
    "       'LA_Specific_Plans', 'Council_Districts',\n",
    "       'Neighborhood_Councils_(Certified)'], axis=1, inplace=True)"
   ]
  },
  {
   "cell_type": "code",
   "execution_count": 26,
   "metadata": {},
   "outputs": [],
   "source": [
    "X = df.iloc[:,:].values\n",
    "labelencoder_X = LabelEncoder()\n",
    "df.Time_of_Day = labelencoder_X.fit_transform(X[:,9])\n",
    "df.Sex_Code = labelencoder_X.fit_transform(X[:,2])\n",
    "df.Descent_Code = labelencoder_X.fit_transform(X[:,3])\n",
    "df.Charge_Group_Code = labelencoder_X.fit_transform(X[:,4])\n",
    "df.Arrest_Type_Code = labelencoder_X.fit_transform(X[:,5])\n",
    "df.Charge = labelencoder_X.fit_transform(X[:,6])"
   ]
  },
  {
   "cell_type": "markdown",
   "metadata": {},
   "source": [
    "## Get Dummy Variables"
   ]
  },
  {
   "cell_type": "code",
   "execution_count": 27,
   "metadata": {},
   "outputs": [],
   "source": [
    "df = pd.get_dummies(df, columns=['Area_ID', 'Descent_Code', 'Charge_Group_Code',\n",
    "       'Arrest_Type_Code', 'Charge', 'Day_of_week', 'Month', 'Time_of_Day'])"
   ]
  },
  {
   "cell_type": "markdown",
   "metadata": {},
   "source": [
    "## Set Target"
   ]
  },
  {
   "cell_type": "code",
   "execution_count": 28,
   "metadata": {},
   "outputs": [],
   "source": [
    "target = df.Sex_Code\n",
    "df.drop('Sex_Code', axis=1, inplace=True)"
   ]
  },
  {
   "cell_type": "code",
   "execution_count": 29,
   "metadata": {},
   "outputs": [],
   "source": [
    "def display_acc_and_f1_score(true, preds, model_name):\n",
    "    acc = accuracy_score(true, preds)\n",
    "    f1 = f1_score(true, preds)\n",
    "    print(\"Model: {}\".format(model_name))\n",
    "    print(\"Accuracy: {}\".format(acc))\n",
    "    print(\"F1-Score: {}\".format(f1))\n",
    "    \n"
   ]
  },
  {
   "cell_type": "markdown",
   "metadata": {},
   "source": [
    "## Principal component analysis\n",
    "\n",
    "By applying demensionality reduction (with PCA) we can speed up the training with minimum accuracy loss"
   ]
  },
  {
   "cell_type": "code",
   "execution_count": 30,
   "metadata": {},
   "outputs": [
    {
     "name": "stdout",
     "output_type": "stream",
     "text": [
      "0.9999492524401042\n",
      "0.999958761734631\n",
      "0.9999744954138129\n"
     ]
    }
   ],
   "source": [
    "from sklearn.decomposition import PCA\n",
    "pca_1 = PCA(n_components=5)\n",
    "pca_2 = PCA(n_components=10)\n",
    "pca_3 = PCA(n_components=20)\n",
    "\n",
    "principalComponents = pca_1.fit_transform(df)\n",
    "principalComponents = pca_2.fit_transform(df)\n",
    "principalComponents = pca_3.fit_transform(df)\n",
    "\n",
    "print(np.sum(pca_1.explained_variance_ratio_))\n",
    "print(np.sum(pca_2.explained_variance_ratio_))\n",
    "print(np.sum(pca_3.explained_variance_ratio_))\n",
    "\n"
   ]
  },
  {
   "cell_type": "markdown",
   "metadata": {},
   "source": [
    "## Applying PCA and Scaling"
   ]
  },
  {
   "cell_type": "code",
   "execution_count": 31,
   "metadata": {},
   "outputs": [
    {
     "name": "stderr",
     "output_type": "stream",
     "text": [
      "/Users/robertfustero/anaconda3/lib/python3.7/site-packages/sklearn/preprocessing/data.py:625: DataConversionWarning: Data with input dtype uint8, int64, float64 were all converted to float64 by StandardScaler.\n",
      "  return self.partial_fit(X, y)\n",
      "/Users/robertfustero/anaconda3/lib/python3.7/site-packages/sklearn/base.py:462: DataConversionWarning: Data with input dtype uint8, int64, float64 were all converted to float64 by StandardScaler.\n",
      "  return self.fit(X, **fit_params).transform(X)\n"
     ]
    },
    {
     "data": {
      "text/html": [
       "<div>\n",
       "<style scoped>\n",
       "    .dataframe tbody tr th:only-of-type {\n",
       "        vertical-align: middle;\n",
       "    }\n",
       "\n",
       "    .dataframe tbody tr th {\n",
       "        vertical-align: top;\n",
       "    }\n",
       "\n",
       "    .dataframe thead th {\n",
       "        text-align: right;\n",
       "    }\n",
       "</style>\n",
       "<table border=\"1\" class=\"dataframe\">\n",
       "  <thead>\n",
       "    <tr style=\"text-align: right;\">\n",
       "      <th></th>\n",
       "      <th>0</th>\n",
       "      <th>1</th>\n",
       "      <th>2</th>\n",
       "      <th>3</th>\n",
       "      <th>4</th>\n",
       "    </tr>\n",
       "  </thead>\n",
       "  <tbody>\n",
       "    <tr>\n",
       "      <th>0</th>\n",
       "      <td>1.858908</td>\n",
       "      <td>2.079507</td>\n",
       "      <td>-1.358381</td>\n",
       "      <td>1.080038</td>\n",
       "      <td>-1.031170</td>\n",
       "    </tr>\n",
       "    <tr>\n",
       "      <th>1</th>\n",
       "      <td>-3.075749</td>\n",
       "      <td>-0.205627</td>\n",
       "      <td>-1.010948</td>\n",
       "      <td>0.202209</td>\n",
       "      <td>-1.311751</td>\n",
       "    </tr>\n",
       "    <tr>\n",
       "      <th>2</th>\n",
       "      <td>1.517030</td>\n",
       "      <td>-1.720345</td>\n",
       "      <td>-0.799348</td>\n",
       "      <td>0.771527</td>\n",
       "      <td>-0.687639</td>\n",
       "    </tr>\n",
       "    <tr>\n",
       "      <th>3</th>\n",
       "      <td>-0.415964</td>\n",
       "      <td>0.988212</td>\n",
       "      <td>-1.500810</td>\n",
       "      <td>-0.200173</td>\n",
       "      <td>2.663164</td>\n",
       "    </tr>\n",
       "    <tr>\n",
       "      <th>4</th>\n",
       "      <td>-0.393930</td>\n",
       "      <td>-0.222384</td>\n",
       "      <td>-1.176923</td>\n",
       "      <td>0.072076</td>\n",
       "      <td>-1.315166</td>\n",
       "    </tr>\n",
       "  </tbody>\n",
       "</table>\n",
       "</div>"
      ],
      "text/plain": [
       "          0         1         2         3         4\n",
       "0  1.858908  2.079507 -1.358381  1.080038 -1.031170\n",
       "1 -3.075749 -0.205627 -1.010948  0.202209 -1.311751\n",
       "2  1.517030 -1.720345 -0.799348  0.771527 -0.687639\n",
       "3 -0.415964  0.988212 -1.500810 -0.200173  2.663164\n",
       "4 -0.393930 -0.222384 -1.176923  0.072076 -1.315166"
      ]
     },
     "execution_count": 31,
     "metadata": {},
     "output_type": "execute_result"
    }
   ],
   "source": [
    "from sklearn.preprocessing import StandardScaler\n",
    "X = StandardScaler().fit_transform(df)\n",
    "pd.DataFrame(data = X, columns = df.columns).head()\n",
    "pca = PCA(n_components=5)\n",
    "principalComponents = pca.fit_transform(X)\n",
    "\n",
    "df2 = pd.DataFrame(data = principalComponents)\n",
    "df2.head()"
   ]
  },
  {
   "cell_type": "code",
   "execution_count": 32,
   "metadata": {},
   "outputs": [],
   "source": [
    "df2.columns = df2.columns.astype(str)"
   ]
  },
  {
   "cell_type": "code",
   "execution_count": 33,
   "metadata": {},
   "outputs": [],
   "source": [
    "X_train, X_test, y_train, y_test = train_test_split(df2, target, test_size=0.25)"
   ]
  },
  {
   "cell_type": "code",
   "execution_count": 36,
   "metadata": {},
   "outputs": [],
   "source": [
    "from sklearn.model_selection import cross_val_score\n",
    "from sklearn.metrics import roc_auc_score\n",
    "from sklearn.pipeline import make_pipeline\n",
    "from sklearn.model_selection import GridSearchCV"
   ]
  },
  {
   "cell_type": "markdown",
   "metadata": {},
   "source": [
    "## Data Pipeline\n",
    "\n",
    "By using a data pipeline, I can optimize my hyper parameters easily and then compare the best version of each model"
   ]
  },
  {
   "cell_type": "code",
   "execution_count": 37,
   "metadata": {},
   "outputs": [],
   "source": [
    "#classification model pipelines\n",
    "pipelines = {\n",
    "    'kneighborsclassifier': make_pipeline(StandardScaler(), KNeighborsClassifier()),\n",
    "    'logisticregression': make_pipeline(StandardScaler(), LogisticRegression()),\n",
    "    'randomforestclassifier': make_pipeline(StandardScaler(), RandomForestClassifier()),\n",
    "    'gradientboostingclassifier': make_pipeline(StandardScaler(), GradientBoostingClassifier())\n",
    "}\n",
    "#define hyperparameters for each model \n",
    "kneighborsclassifier_hyperparameters = {\n",
    "    'kneighborsclassifier__n_neighbors': [5, 7, 9,12],\n",
    "    'kneighborsclassifier__leaf_size':[1,2,3,5],\n",
    "    'kneighborsclassifier__weights': ['uniform','distance'],\n",
    "    'kneighborsclassifier__algorithm':['auto', 'ball_tree','kd_tree','brute']\n",
    "}\n",
    "logisticregression_hyperparameters = {\n",
    "    'logisticregression__C': [0.001, 0.01, 0.1, 1, 10, 100, 1000],\n",
    "    'logisticregression__solver': ['sag','saga']\n",
    "}\n",
    "randomforestclassifier_hyperparameters = {\n",
    "    'randomforestclassifier__n_estimators': [100, 200,300], \n",
    "    'randomforestclassifier__max_features': ['auto', 'sqrt',0.33]\n",
    "}\n",
    "gradientboostingclassifier_hyperparameters = {\n",
    "    'gradientboostingclassifier__n_estimators': [100, 200], \n",
    "    'gradientboostingclassifier__learning_rate': [0.05, 0.1, 0.2, 1],\n",
    "    'gradientboostingclassifier__max_depth': [1, 3, 5, 7]\n",
    "}\n",
    "#set hyperparameter dictionary\n",
    "hyperparameters = {\n",
    "    'kneighborsclassifier': kneighborsclassifier_hyperparameters,\n",
    "    'logisticregression': logisticregression_hyperparameters,\n",
    "    'randomforestclassifier': randomforestclassifier_hyperparameters,\n",
    "    'gradientboostingclassifier': gradientboostingclassifier_hyperparameters\n",
    "}"
   ]
  },
  {
   "cell_type": "code",
   "execution_count": 38,
   "metadata": {},
   "outputs": [
    {
     "name": "stdout",
     "output_type": "stream",
     "text": [
      "kneighborsclassifier has been fitted.\n",
      "logisticregression has been fitted.\n",
      "randomforestclassifier has been fitted.\n",
      "gradientboostingclassifier has been fitted.\n",
      "kneighborsclassifier 0.6784602432620188\n",
      "kneighborsclassifier 0.5973378362333944\n",
      "logisticregression 0.7156518974672962\n",
      "logisticregression 0.5718210361067504\n",
      "randomforestclassifier 0.6917436917896124\n",
      "randomforestclassifier 0.5962066145139375\n",
      "gradientboostingclassifier 0.7294581356191643\n",
      "gradientboostingclassifier 0.5825637947486687\n"
     ]
    }
   ],
   "source": [
    "fitted_models = {}\n",
    "\n",
    "for name, pipeline in pipelines.items():\n",
    "    model = GridSearchCV(pipeline, hyperparameters[name], cv=10, n_jobs=-1, scoring='roc_auc')\n",
    "    model.fit(X_train, y_train)\n",
    "    y_hat = model.predict(X_test)\n",
    "    confusion_matrix(y_hat, y_test)\n",
    "    fitted_models[name] = model\n",
    "    print(name, 'has been fitted.')\n",
    "\n",
    "for name, model in fitted_models.items(): \n",
    "    print(name, model.best_score_)\n",
    "    y_hat = model.predict(X_test)\n",
    "    print(name, roc_auc_score(y_test,y_hat))\n",
    "    confusion_matrix(y_hat, y_test)"
   ]
  },
  {
   "cell_type": "markdown",
   "metadata": {},
   "source": [
    "## Voting Classifier\n",
    "Voting classifiers work exactly how the name describes.  Each model classifies the information to the target variable and then each 'vote' (prediction the ML model made) is weighed together to get the final result."
   ]
  },
  {
   "cell_type": "code",
   "execution_count": 39,
   "metadata": {},
   "outputs": [
    {
     "name": "stdout",
     "output_type": "stream",
     "text": [
      "Training Metrics\n",
      "Model: Voting\n",
      "Accuracy: 0.8572\n",
      "F1-Score: 0.9186355693990732\n",
      "\n",
      "Testing Metrics\n",
      "Model: Voting\n",
      "Accuracy: 0.8468\n",
      "F1-Score: 0.9136804146946136\n",
      "\n",
      "Roc Auc Score: 0.7979201623016824\n",
      "Cross Validation Score: 0.8389011178252794\n"
     ]
    }
   ],
   "source": [
    "v_clf = VotingClassifier(estimators=[('rf',fitted_models['randomforestclassifier']),('gb',fitted_models['gradientboostingclassifier']),('lr', fitted_models['logisticregression']),('knn',fitted_models['kneighborsclassifier'])])\n",
    "v_clf.fit(X_train, y_train)\n",
    "\n",
    "v_train_preds = v_clf.predict(X_train)\n",
    "v_test_preds = v_clf.predict(X_test)\n",
    "print(\"Training Metrics\")\n",
    "display_acc_and_f1_score(y_train, v_train_preds, model_name='Voting')\n",
    "print(\"\")\n",
    "print(\"Testing Metrics\")\n",
    "display_acc_and_f1_score(y_test, v_test_preds, model_name='Voting')\n",
    "print(\"\")\n",
    "print(\"Roc Auc Score:\", roc_auc_score(v_test_preds,y_test))\n",
    "print(\"Cross Validation Score:\", cross_val_score(v_clf,df2,target,cv=5).mean())"
   ]
  },
  {
   "cell_type": "code",
   "execution_count": 42,
   "metadata": {},
   "outputs": [
    {
     "name": "stdout",
     "output_type": "stream",
     "text": [
      "              precision    recall  f1-score   support\n",
      "\n",
      "           0       0.74      0.20      0.32       442\n",
      "           1       0.85      0.98      0.91      2058\n",
      "\n",
      "   micro avg       0.85      0.85      0.85      2500\n",
      "   macro avg       0.80      0.59      0.62      2500\n",
      "weighted avg       0.83      0.85      0.81      2500\n",
      "\n"
     ]
    }
   ],
   "source": [
    "print(classification_report(y_test,v_test_preds))"
   ]
  },
  {
   "cell_type": "markdown",
   "metadata": {},
   "source": [
    "## Conclusion:\n",
    "Similar accuracy and f1 score for testing and training data mean my model fits the data pretty well and it's not over fitting. <br>\n",
    "With a ROC AUC score near 80 and a Cross Val score near 84, my model performs fairly well.<br>\n",
    "Combining models gave me an ROC AUC score 10 points higher than any model performed individually.<br>\n",
    "Still, despite adding parameters and tuning parameters is still not perfect at identifying men vs women.<br>\n",
    "For crimes where men and women commit them near the same rates per gender, it's difficult to guess sex based on how the crime happened alone.<br>\n"
   ]
  },
  {
   "cell_type": "markdown",
   "metadata": {},
   "source": [
    "## Future Work:\n",
    "Using more information about crime statistics and time series analysis - could help predict what types of crime occur when as well as being able to predict gender better."
   ]
  },
  {
   "cell_type": "code",
   "execution_count": null,
   "metadata": {},
   "outputs": [],
   "source": []
  }
 ],
 "metadata": {
  "kernelspec": {
   "display_name": "Python 3",
   "language": "python",
   "name": "python3"
  },
  "language_info": {
   "codemirror_mode": {
    "name": "ipython",
    "version": 3
   },
   "file_extension": ".py",
   "mimetype": "text/x-python",
   "name": "python",
   "nbconvert_exporter": "python",
   "pygments_lexer": "ipython3",
   "version": "3.7.3"
  }
 },
 "nbformat": 4,
 "nbformat_minor": 2
}
